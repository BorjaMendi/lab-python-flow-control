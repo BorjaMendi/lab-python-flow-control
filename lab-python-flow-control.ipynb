{
 "cells": [
  {
   "cell_type": "markdown",
   "id": "d3bfc191-8885-42ee-b0a0-bbab867c6f9f",
   "metadata": {
    "tags": []
   },
   "source": [
    "# Lab | Flow Control"
   ]
  },
  {
   "cell_type": "markdown",
   "id": "3851fcd1-cf98-4653-9c89-e003b7ec9400",
   "metadata": {},
   "source": [
    "## Exercise: Managing Customer Orders Optimized\n",
    "\n",
    "In the last lab, you were starting an online store that sells various products. To ensure smooth operations, you developed a program that manages customer orders and inventory.\n",
    "\n",
    "You did so without using flow control. Let's go a step further and improve this code.\n",
    "\n",
    "Follow the steps below to complete the exercise:\n",
    "\n",
    "1. Look at your code from the lab data structures, and improve repeated code with loops.\n",
    "\n",
    "2. Instead of asking the user to input the name of three products that a customer wants to order, do the following:\n",
    "    \n",
    "    a. Prompt the user to enter the name of a product that a customer wants to order.\n",
    "    \n",
    "    b. Add the product name to the \"customer_orders\" set.\n",
    "    \n",
    "    c. Ask the user if they want to add another product (yes/no).\n",
    "    \n",
    "    d. Continue the loop until the user does not want to add another product.\n",
    "\n",
    "3. Instead of updating the inventory by subtracting 1 from the quantity of each product, only do it for  the products that were ordered (those in \"customer_orders\")."
   ]
  },
  {
   "cell_type": "code",
   "execution_count": 4,
   "id": "a07760e5",
   "metadata": {},
   "outputs": [],
   "source": [
    "products = [\"t-shirt\", \"mug\", \"hat\", \"book\", \"keychain\"]\n",
    "inventory = {}\n",
    "\n",
    "for product in products:\n",
    "    quantity = int(input(f\"Cantidad de {product}: \"))\n",
    "    inventory[product] = quantity"
   ]
  },
  {
   "cell_type": "code",
   "execution_count": 5,
   "id": "bd32ed89",
   "metadata": {},
   "outputs": [],
   "source": [
    "customer_order = set()"
   ]
  },
  {
   "cell_type": "code",
   "execution_count": 6,
   "id": "01a11bc2",
   "metadata": {},
   "outputs": [
    {
     "name": "stdout",
     "output_type": "stream",
     "text": [
      "\n",
      "Productos disponibles: t-shirt, mug, hat, book, keychain\n"
     ]
    }
   ],
   "source": [
    "print(\"\\nProductos disponibles:\", \", \".join(products))"
   ]
  },
  {
   "cell_type": "code",
   "execution_count": 13,
   "id": "fe4f9632",
   "metadata": {},
   "outputs": [],
   "source": [
    "while True:\n",
    "    product = input(\"Elige un producto (t-shirt, mug, hat, book, keychain): \").strip().lower()\n",
    "    \n",
    "    if product in products:\n",
    "        customer_order.add(product)\n",
    "    else:\n",
    "        print(\"Producto no válido. Intenta de nuevo.\")\n",
    "\n",
    "    continuar = input(\"¿Deseas agregar otro producto? (si/no): \").strip().lower()\n",
    "    if continuar != \"si\":\n",
    "     break"
   ]
  },
  {
   "cell_type": "code",
   "execution_count": 14,
   "id": "b30bf807",
   "metadata": {},
   "outputs": [
    {
     "name": "stdout",
     "output_type": "stream",
     "text": [
      "Pedidos del cliente:\n",
      "{'hat', 'mug'}\n"
     ]
    }
   ],
   "source": [
    "print(\"Pedidos del cliente:\")\n",
    "print(customer_order)"
   ]
  },
  {
   "cell_type": "code",
   "execution_count": 15,
   "id": "83d9cad4",
   "metadata": {},
   "outputs": [],
   "source": [
    "total_products_ordered = len(customer_order)\n",
    "percentage_ordered = (total_products_ordered / len(products)) * 100\n",
    "order_status = (total_products_ordered, percentage_ordered)"
   ]
  },
  {
   "cell_type": "code",
   "execution_count": 16,
   "id": "1c53e8e0",
   "metadata": {},
   "outputs": [
    {
     "name": "stdout",
     "output_type": "stream",
     "text": [
      "\n",
      "Estadísticas del pedido:\n",
      "Total de productos pedidos: 2\n",
      "Porcentaje de productos pedidos: 40.00%\n"
     ]
    }
   ],
   "source": [
    "print(\"\\nEstadísticas del pedido:\")\n",
    "print(f\"Total de productos pedidos: {order_status[0]}\")\n",
    "print(f\"Porcentaje de productos pedidos: {order_status[1]:.2f}%\")"
   ]
  },
  {
   "cell_type": "code",
   "execution_count": 17,
   "id": "cbdb2a5d",
   "metadata": {},
   "outputs": [],
   "source": [
    "for product in customer_order:\n",
    "    inventory[product] = max(inventory[product] - 1, 0)"
   ]
  },
  {
   "cell_type": "code",
   "execution_count": 18,
   "id": "04bcf628",
   "metadata": {},
   "outputs": [
    {
     "name": "stdout",
     "output_type": "stream",
     "text": [
      "\n",
      "Inventario actualizado:\n",
      "t-shirt: 10\n",
      "mug: 14\n",
      "hat: 4\n",
      "book: 50\n",
      "keychain: 30\n"
     ]
    }
   ],
   "source": [
    "print(\"\\nInventario actualizado:\")\n",
    "for product in products:\n",
    "    print(f\"{product}: {inventory[product]}\")"
   ]
  }
 ],
 "metadata": {
  "kernelspec": {
   "display_name": "Python 3",
   "language": "python",
   "name": "python3"
  },
  "language_info": {
   "codemirror_mode": {
    "name": "ipython",
    "version": 3
   },
   "file_extension": ".py",
   "mimetype": "text/x-python",
   "name": "python",
   "nbconvert_exporter": "python",
   "pygments_lexer": "ipython3",
   "version": "3.12.1"
  }
 },
 "nbformat": 4,
 "nbformat_minor": 5
}
